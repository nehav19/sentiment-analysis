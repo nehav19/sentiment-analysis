{
 "cells": [
  {
   "cell_type": "code",
   "execution_count": 2,
   "metadata": {},
   "outputs": [
    {
     "name": "stderr",
     "output_type": "stream",
     "text": [
      "[nltk_data] Downloading package punkt to\n",
      "[nltk_data]     C:\\Users\\NEHA\\AppData\\Roaming\\nltk_data...\n",
      "[nltk_data]   Package punkt is already up-to-date!\n"
     ]
    },
    {
     "name": "stdout",
     "output_type": "stream",
     "text": [
      "Accuracy: 0.9433526011560693\n",
      "Classification Report:\n",
      "              precision    recall  f1-score   support\n",
      "\n",
      "           0       0.91      0.88      0.89       236\n",
      "           1       0.96      0.97      0.96       629\n",
      "\n",
      "    accuracy                           0.94       865\n",
      "   macro avg       0.93      0.92      0.93       865\n",
      "weighted avg       0.94      0.94      0.94       865\n",
      "\n",
      "Model and vectorizer saved.\n",
      "Predictions on new reviews: [1 0]\n"
     ]
    }
   ],
   "source": [
    "# Step 1: Import necessary libraries\n",
    "import pandas as pd\n",
    "from sklearn.model_selection import train_test_split\n",
    "from sklearn.feature_extraction.text import CountVectorizer\n",
    "from sklearn.linear_model import LogisticRegression\n",
    "from sklearn.metrics import accuracy_score, classification_report\n",
    "import nltk\n",
    "nltk.download('punkt')  # Ensure the Punkt tokenizer is downloaded\n",
    "import joblib  # For saving and loading the model\n",
    "\n",
    "# Step 2: Load datasets\n",
    "# Load the CSV file with reviews\n",
    "df = pd.read_csv('reviews.csv')\n",
    "\n",
    "# Load the positive and negative paragraphs from the txt files with encoding\n",
    "with open('positive.txt', 'r', encoding='utf-8') as file:\n",
    "    positive_text = file.read()\n",
    "\n",
    "with open('negative.txt', 'r', encoding='utf-8') as file:\n",
    "    negative_text = file.read()\n",
    "\n",
    "# Step 3: Create DataFrames for positive and negative paragraphs\n",
    "positive_df = pd.DataFrame({'Review': [positive_text], 'Label': [1]})\n",
    "negative_df = pd.DataFrame({'Review': [negative_text], 'Label': [0]})\n",
    "\n",
    "# Concatenate the paragraphs with the original DataFrame\n",
    "df = pd.concat([df, positive_df, negative_df], ignore_index=True)\n",
    "\n",
    "# Step 4: Preprocess the data using CountVectorizer's default tokenizer\n",
    "vectorizer = CountVectorizer(stop_words='english')\n",
    "X = vectorizer.fit_transform(df['Review'])\n",
    "y = df['Label']\n",
    "\n",
    "# Step 5: Train-test split\n",
    "X_train, X_test, y_train, y_test = train_test_split(X, y, test_size=0.2, random_state=42)\n",
    "\n",
    "# Step 6: Build and train the model\n",
    "model = LogisticRegression()\n",
    "model.fit(X_train, y_train)\n",
    "\n",
    "# Step 7: Evaluate the model\n",
    "y_pred = model.predict(X_test)\n",
    "print(f\"Accuracy: {accuracy_score(y_test, y_pred)}\")\n",
    "print(\"Classification Report:\")\n",
    "print(classification_report(y_test, y_pred))\n",
    "\n",
    "# Step 8: Save the model and vectorizer (binary files)\n",
    "joblib.dump(model, 'sentiment_model.pkl')      # Save the trained model\n",
    "joblib.dump(vectorizer, 'vectorizer.pkl')      # Save the vectorizer\n",
    "\n",
    "print(\"Model and vectorizer saved.\")\n",
    "\n",
    "# Step 9: Load the saved model and vectorizer for later use\n",
    "model_loaded = joblib.load('sentiment_model.pkl')\n",
    "vectorizer_loaded = joblib.load('vectorizer.pkl')\n",
    "\n",
    "# Example usage: make predictions on new data\n",
    "new_reviews = [\"This is a great product!\", \"Terrible experience, will not buy again.\"]\n",
    "X_new = vectorizer_loaded.transform(new_reviews)\n",
    "predictions = model_loaded.predict(X_new)\n",
    "\n",
    "print(\"Predictions on new reviews:\", predictions)\n"
   ]
  }
 ],
 "metadata": {
  "kernelspec": {
   "display_name": "Python 3",
   "language": "python",
   "name": "python3"
  },
  "language_info": {
   "codemirror_mode": {
    "name": "ipython",
    "version": 3
   },
   "file_extension": ".py",
   "mimetype": "text/x-python",
   "name": "python",
   "nbconvert_exporter": "python",
   "pygments_lexer": "ipython3",
   "version": "3.12.5"
  }
 },
 "nbformat": 4,
 "nbformat_minor": 2
}
